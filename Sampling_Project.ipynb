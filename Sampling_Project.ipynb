{
 "cells": [
  {
   "cell_type": "markdown",
   "metadata": {},
   "source": [
    "# Sampling: Expenditure per capita of entrepreneurs in DKI Jakarta in 2020"
   ]
  },
  {
   "cell_type": "markdown",
   "metadata": {},
   "source": [
    "## A. Introduction & Background"
   ]
  },
  {
   "cell_type": "markdown",
   "metadata": {},
   "source": [
    "DKI Jakarta is known as one of the provinces that has thriving entrepreneurial activity in various sectors such as fashion, food & beverage, service, technology, etc. However, in 2020, Indonesia faced economic challenges due to the COVID-19 pandemic, including DKI Jakarta. The widespread disruptions caused by the COVID-19 pandemic forced many businesses to adapt to survive and put the resilience of businesses and entrepreneurs in all over the world to the test, making it a year of significant change.\n",
    "\n",
    "This study will try to understand how entrepreneurs spend their money during that time. By analysing entrepreneurs' spending throughout 2020, it will reveal how they adapted to the new normal, which can guide future economic resilience efforts.\n",
    "\n"
   ]
  },
  {
   "cell_type": "markdown",
   "metadata": {},
   "source": [
    "## B. Import Library"
   ]
  },
  {
   "cell_type": "code",
   "execution_count": 113,
   "metadata": {},
   "outputs": [],
   "source": [
    "# Import library\n",
    "import numpy as np\n",
    "import pandas as pd\n",
    "import math\n",
    "import copy\n",
    "\n"
   ]
  },
  {
   "cell_type": "markdown",
   "metadata": {},
   "source": [
    "## C. Import Raw Data Set"
   ]
  },
  {
   "cell_type": "code",
   "execution_count": 114,
   "metadata": {},
   "outputs": [],
   "source": [
    "# Import raw dataset as initial data\n",
    "initial_2020_gender_exp = pd.read_csv('Sampling Project - Rifa Aisya Putri - Expenditure by Gender.csv')\n",
    "initial_2020_working_status = pd.read_csv('Sampling Project - Rifa Aisya Putri - Total Workers.csv')\n",
    "initial_2020_gender = pd.read_csv('Sampling Project - Rifa Aisya Putri - Dist gender.csv')\n",
    "initial_2020_city = pd.read_csv('Sampling Project - Rifa Aisya Putri - Dist Population.csv')\n",
    "initial_2020_district = pd.read_csv('Sampling Project - Rifa Aisya Putri - Kecamatan.csv')"
   ]
  },
  {
   "cell_type": "code",
   "execution_count": 115,
   "metadata": {},
   "outputs": [
    {
     "data": {
      "text/html": [
       "<div>\n",
       "<style scoped>\n",
       "    .dataframe tbody tr th:only-of-type {\n",
       "        vertical-align: middle;\n",
       "    }\n",
       "\n",
       "    .dataframe tbody tr th {\n",
       "        vertical-align: top;\n",
       "    }\n",
       "\n",
       "    .dataframe thead th {\n",
       "        text-align: right;\n",
       "    }\n",
       "</style>\n",
       "<table border=\"1\" class=\"dataframe\">\n",
       "  <thead>\n",
       "    <tr style=\"text-align: right;\">\n",
       "      <th></th>\n",
       "      <th>City</th>\n",
       "      <th>Distribution</th>\n",
       "    </tr>\n",
       "  </thead>\n",
       "  <tbody>\n",
       "    <tr>\n",
       "      <th>0</th>\n",
       "      <td>Jakarta Selatan</td>\n",
       "      <td>21.1</td>\n",
       "    </tr>\n",
       "    <tr>\n",
       "      <th>1</th>\n",
       "      <td>Jakarta Timur</td>\n",
       "      <td>28.8</td>\n",
       "    </tr>\n",
       "    <tr>\n",
       "      <th>2</th>\n",
       "      <td>Jakarta Pusat</td>\n",
       "      <td>10.2</td>\n",
       "    </tr>\n",
       "    <tr>\n",
       "      <th>3</th>\n",
       "      <td>Jakarta Barat</td>\n",
       "      <td>23.3</td>\n",
       "    </tr>\n",
       "    <tr>\n",
       "      <th>4</th>\n",
       "      <td>Jakarta Utara</td>\n",
       "      <td>16.6</td>\n",
       "    </tr>\n",
       "  </tbody>\n",
       "</table>\n",
       "</div>"
      ],
      "text/plain": [
       "              City  Distribution\n",
       "0  Jakarta Selatan          21.1\n",
       "1    Jakarta Timur          28.8\n",
       "2    Jakarta Pusat          10.2\n",
       "3    Jakarta Barat          23.3\n",
       "4    Jakarta Utara          16.6"
      ]
     },
     "execution_count": 115,
     "metadata": {},
     "output_type": "execute_result"
    }
   ],
   "source": [
    "initial_2020_city"
   ]
  },
  {
   "cell_type": "markdown",
   "metadata": {},
   "source": [
    "## D. Sampling Design"
   ]
  },
  {
   "cell_type": "markdown",
   "metadata": {},
   "source": [
    "### Population Stages\n",
    "\n",
    "**Population**\n",
    "- First Stage: All regencies/cities in DKI Jakarta\n",
    "- Second Stage: All districts in regencies/cities in DKI Jakarta\n",
    "- Third Stage: All entrepreneurs/self-employed individuals in districts in DKI Jakarta\n",
    "\n",
    "**Target Population**\n",
    "<br>The target population includes all individuals who are entrepreneurs or self-employed workers in DKI Jakarta.\n",
    "\n",
    "**Sampling Frame**\n",
    "<br>To obtain information from the entire population, I used the data from [Jakarta Bureau of Statistics](https://jakarta.bps.go.id/).\n",
    "\n",
    "**Sampling Unit**\n",
    "- First Stage: All regencies/cities in DKI Jakarta\n",
    "- Second Stage: All districts in regencies/cities in DKI Jakarta\n",
    "- Third Stage: All entrepreneurs/self-employed individuals in districts in DKI Jakarta\n",
    "\n",
    "**Observation Unit**\n",
    "<br> The observation unit for this study is entrepreneurs in DKI Jakarta, as they are the subjects from whom data on per capita spending will be collected.\n",
    "\n",
    "**Analysis Unit**\n",
    "<br>The analysis unit for this study is at the level of entrepreneurs.\n",
    "\n",
    "**Characteristics Studied**\n",
    "<br>The characteristic under this study is the expenditure per capita of entrepreneurs in DKI Jakarta. Our main area of interest is expenditure per capita.\n",
    "\n",
    "**Estimated characteristic values**\n",
    "<br>The estimated characteristic values are average expenditure, proportion of expenditure, and total expenditure.\n",
    "\n",
    "### Sampling Method\n",
    "The sampling approach used is multistage sampling. This process involves breaking down the sampling into several stages to ensure a representative and manageable sample. First, we would stratify the city of DKI Jakarta based on expenditure per capita.\n",
    "<br>Following this, we implement cluster sampling within each subgroup. This involves selecting specific clusters or geographic units, such as subdistricts or \"kecamatan\" within DKI Jakarta. Within these chosen clusters, we perform random sampling to select individual entrepreneurs. This approach ensures that the sampling process remains unbiased and representative.\n",
    "<br>Once the data is collected, we can analyze it to determine the expenditure per capita of entrepreneurs in DKI Jakarta for the year 2020.\n"
   ]
  },
  {
   "cell_type": "markdown",
   "metadata": {},
   "source": [
    "## E. Estimate The Total Sample"
   ]
  },
  {
   "cell_type": "markdown",
   "metadata": {},
   "source": [
    "By choosing the multistage sampling, our sampling process will encompass a total of four stages, including:\n",
    "\n",
    "- Stage 1: Dividing the population into two strata\n",
    "\n",
    "- Stage 2: Dividing the population into five strata\n",
    "\n",
    "- Stage 3: Cluster sampling for sitrict within each stratum\n",
    "\n",
    "- Stage 4: Sampling using Simple Random Sampling method or SRS"
   ]
  },
  {
   "cell_type": "markdown",
   "metadata": {},
   "source": [
    "### Stage 1: Dividing/Categorizing the population into two strata (Gender)"
   ]
  },
  {
   "cell_type": "markdown",
   "metadata": {},
   "source": [
    "This categorization is undertaken because of the initial hypothesis that there are discrepancies in per capita expenditure associated with gender (female or male). As prior research has shown, females' per capita expenditure amounts to approximately IDR 9.04 million, which is roughly 39% less than the per capita expenditure of males, already standing at IDR 15 million (source: https://jurnal.bppk.kemenkeu.go.id/jurnalbppk/article/download/626/331). Hence, the population is divided into two gender categories using data provided by BPS DKI Jakarta.\n"
   ]
  },
  {
   "cell_type": "markdown",
   "metadata": {},
   "source": [
    "As the cost and variance of the population are not available, we will start the steps by calculating the cost first and then calculate the variance\n",
    "<br>$ C = c_{0} + c_{1}n + c_{2}nm $"
   ]
  },
  {
   "cell_type": "code",
   "execution_count": 116,
   "metadata": {},
   "outputs": [],
   "source": [
    "# To calculate the cost, we will try to put some assumption\n",
    "c0 = 4_000_000\n",
    "c1 = 50_000\n",
    "c2 = 50_000\n",
    "N = 5\n",
    "n_ = 5\n",
    "M = 2000\n",
    "nm = 2000"
   ]
  },
  {
   "cell_type": "code",
   "execution_count": 117,
   "metadata": {},
   "outputs": [
    {
     "data": {
      "text/html": [
       "<div>\n",
       "<style scoped>\n",
       "    .dataframe tbody tr th:only-of-type {\n",
       "        vertical-align: middle;\n",
       "    }\n",
       "\n",
       "    .dataframe tbody tr th {\n",
       "        vertical-align: top;\n",
       "    }\n",
       "\n",
       "    .dataframe thead th {\n",
       "        text-align: right;\n",
       "    }\n",
       "</style>\n",
       "<table border=\"1\" class=\"dataframe\">\n",
       "  <thead>\n",
       "    <tr style=\"text-align: right;\">\n",
       "      <th></th>\n",
       "      <th>City</th>\n",
       "      <th>Male</th>\n",
       "      <th>Female</th>\n",
       "      <th>Mean</th>\n",
       "    </tr>\n",
       "  </thead>\n",
       "  <tbody>\n",
       "    <tr>\n",
       "      <th>0</th>\n",
       "      <td>South Jakarta</td>\n",
       "      <td>27360314</td>\n",
       "      <td>23003910</td>\n",
       "      <td>2717039</td>\n",
       "    </tr>\n",
       "    <tr>\n",
       "      <th>1</th>\n",
       "      <td>East Jakarta</td>\n",
       "      <td>21873567</td>\n",
       "      <td>17113162</td>\n",
       "      <td>1866273</td>\n",
       "    </tr>\n",
       "    <tr>\n",
       "      <th>2</th>\n",
       "      <td>Central Jakarta</td>\n",
       "      <td>19390719</td>\n",
       "      <td>16577167</td>\n",
       "      <td>2388623</td>\n",
       "    </tr>\n",
       "    <tr>\n",
       "      <th>3</th>\n",
       "      <td>West Jakarta</td>\n",
       "      <td>23697197</td>\n",
       "      <td>19398457</td>\n",
       "      <td>2236259</td>\n",
       "    </tr>\n",
       "    <tr>\n",
       "      <th>4</th>\n",
       "      <td>North Jakarta</td>\n",
       "      <td>26025198</td>\n",
       "      <td>18087289</td>\n",
       "      <td>2297793</td>\n",
       "    </tr>\n",
       "    <tr>\n",
       "      <th>5</th>\n",
       "      <td>DKI Jakarta</td>\n",
       "      <td>22614576</td>\n",
       "      <td>16742345</td>\n",
       "      <td>2257991</td>\n",
       "    </tr>\n",
       "  </tbody>\n",
       "</table>\n",
       "</div>"
      ],
      "text/plain": [
       "              City      Male    Female     Mean\n",
       "0    South Jakarta  27360314  23003910  2717039\n",
       "1     East Jakarta  21873567  17113162  1866273\n",
       "2  Central Jakarta  19390719  16577167  2388623\n",
       "3     West Jakarta  23697197  19398457  2236259\n",
       "4    North Jakarta  26025198  18087289  2297793\n",
       "5      DKI Jakarta  22614576  16742345  2257991"
      ]
     },
     "execution_count": 117,
     "metadata": {},
     "output_type": "execute_result"
    }
   ],
   "source": [
    "initial_2020_gender_exp"
   ]
  },
  {
   "cell_type": "code",
   "execution_count": 118,
   "metadata": {},
   "outputs": [
    {
     "data": {
      "text/html": [
       "<div>\n",
       "<style scoped>\n",
       "    .dataframe tbody tr th:only-of-type {\n",
       "        vertical-align: middle;\n",
       "    }\n",
       "\n",
       "    .dataframe tbody tr th {\n",
       "        vertical-align: top;\n",
       "    }\n",
       "\n",
       "    .dataframe thead th {\n",
       "        text-align: right;\n",
       "    }\n",
       "</style>\n",
       "<table border=\"1\" class=\"dataframe\">\n",
       "  <thead>\n",
       "    <tr style=\"text-align: right;\">\n",
       "      <th></th>\n",
       "      <th>City</th>\n",
       "      <th>Male</th>\n",
       "      <th>Female</th>\n",
       "      <th>Mean</th>\n",
       "      <th>Variance</th>\n",
       "    </tr>\n",
       "  </thead>\n",
       "  <tbody>\n",
       "    <tr>\n",
       "      <th>0</th>\n",
       "      <td>South Jakarta</td>\n",
       "      <td>27360314</td>\n",
       "      <td>23003910</td>\n",
       "      <td>2717039</td>\n",
       "      <td>210725066304</td>\n",
       "    </tr>\n",
       "    <tr>\n",
       "      <th>1</th>\n",
       "      <td>East Jakarta</td>\n",
       "      <td>21873567</td>\n",
       "      <td>17113162</td>\n",
       "      <td>1866273</td>\n",
       "      <td>153442991524</td>\n",
       "    </tr>\n",
       "    <tr>\n",
       "      <th>2</th>\n",
       "      <td>Central Jakarta</td>\n",
       "      <td>19390719</td>\n",
       "      <td>16577167</td>\n",
       "      <td>2388623</td>\n",
       "      <td>17064719424</td>\n",
       "    </tr>\n",
       "    <tr>\n",
       "      <th>3</th>\n",
       "      <td>West Jakarta</td>\n",
       "      <td>23697197</td>\n",
       "      <td>19398457</td>\n",
       "      <td>2236259</td>\n",
       "      <td>472279824</td>\n",
       "    </tr>\n",
       "    <tr>\n",
       "      <th>4</th>\n",
       "      <td>North Jakarta</td>\n",
       "      <td>26025198</td>\n",
       "      <td>18087289</td>\n",
       "      <td>2297793</td>\n",
       "      <td>1584199204</td>\n",
       "    </tr>\n",
       "    <tr>\n",
       "      <th>5</th>\n",
       "      <td>DKI Jakarta</td>\n",
       "      <td>22614576</td>\n",
       "      <td>16742345</td>\n",
       "      <td>2257991</td>\n",
       "      <td>0</td>\n",
       "    </tr>\n",
       "  </tbody>\n",
       "</table>\n",
       "</div>"
      ],
      "text/plain": [
       "              City      Male    Female     Mean      Variance\n",
       "0    South Jakarta  27360314  23003910  2717039  210725066304\n",
       "1     East Jakarta  21873567  17113162  1866273  153442991524\n",
       "2  Central Jakarta  19390719  16577167  2388623   17064719424\n",
       "3     West Jakarta  23697197  19398457  2236259     472279824\n",
       "4    North Jakarta  26025198  18087289  2297793    1584199204\n",
       "5      DKI Jakarta  22614576  16742345  2257991             0"
      ]
     },
     "execution_count": 118,
     "metadata": {},
     "output_type": "execute_result"
    }
   ],
   "source": [
    "# Clean the data set in \"Mean\" column\n",
    "clean_2020_exp = initial_2020_gender_exp.loc[5::,[\"Mean\"]]\n",
    "clean_2020_exp = clean_2020_exp[\"Mean\"].values[0]\n",
    "\n",
    "initial_2020_gender_exp[\"Variance\"] = (initial_2020_gender_exp[\"Mean\"] - clean_2020_exp) ** 2\n",
    "initial_2020_gender_exp"
   ]
  },
  {
   "cell_type": "markdown",
   "metadata": {},
   "source": [
    "$$\n",
    "m_{\\text{opt}} = \\frac{c_2(\\sigma_b^2 - \\bar{M}\\sigma_w^2)}{c_1\\sigma_w^2}\n",
    "$$\n",
    "\n",
    "$$\n",
    "\\sigma_b^2 = \\frac{1}{N-1} \\sum_{i=1}^{N} (\\mu_i - \\mu)^2\n",
    "$$\n",
    "\n",
    "$$\n",
    "\\sigma_w^2 = \\frac{1}{N} \\sum_{i=1}^{N} \\sigma_i^2\n",
    "$$\n"
   ]
  },
  {
   "cell_type": "markdown",
   "metadata": {},
   "source": [
    "As we've already calculate the data's variance, we can now calculate σ_b^2 and σ_w^2 base on the formula above. Finally, we can get the value for m.opt"
   ]
  },
  {
   "cell_type": "code",
   "execution_count": 119,
   "metadata": {},
   "outputs": [
    {
     "name": "stdout",
     "output_type": "stream",
     "text": [
      "The value of σ_b^2 is 95822314070.0\n",
      "The value of σ_w^2 is 76657851256.0\n"
     ]
    }
   ],
   "source": [
    "# Calculate σ_b^2 and σ_w^2\n",
    "sigma_b = (1/(N-1))*(initial_2020_gender_exp[\"Variance\"].sum())\n",
    "sigma_w = (1/(N))*(initial_2020_gender_exp[\"Variance\"].sum())\n",
    "print(\"The value of σ_b^2 is\", sigma_b)\n",
    "print(\"The value of σ_w^2 is\", sigma_w)"
   ]
  },
  {
   "cell_type": "code",
   "execution_count": 120,
   "metadata": {},
   "outputs": [
    {
     "name": "stdout",
     "output_type": "stream",
     "text": [
      "The value of m_opt is 0.8946061301216421\n"
     ]
    }
   ],
   "source": [
    "# Calculate value of m_opt\n",
    "m_opt = math.sqrt(c1*sigma_w/(c2*(sigma_b-(sigma_w/M))))\n",
    "print(\"The value of m_opt is\", m_opt)"
   ]
  },
  {
   "cell_type": "markdown",
   "metadata": {},
   "source": [
    "The next step is calculate total allocation cost (C) with 5 PSU, corresponding to the number of selected cities and assuming a prior data sample size of 2,000 (assumed data). This can be computed as follows:"
   ]
  },
  {
   "cell_type": "code",
   "execution_count": 121,
   "metadata": {},
   "outputs": [
    {
     "name": "stdout",
     "output_type": "stream",
     "text": [
      "Total allocation cost is 104250000\n"
     ]
    }
   ],
   "source": [
    "# Calculate total allocation cost with C formula\n",
    "C = c0 + c1*n_+c2*nm\n",
    "print(\"Total allocation cost is\",C)"
   ]
  },
  {
   "cell_type": "markdown",
   "metadata": {},
   "source": [
    "The total allocation cost has already been calculated, so we can use the following equation to determine the required sample size."
   ]
  },
  {
   "cell_type": "markdown",
   "metadata": {},
   "source": [
    "$$\n",
    "n = \\frac{C - c_{0}}{c_{1} + c_{2} m_{\\text{opt}}}\n",
    "$$\n"
   ]
  },
  {
   "cell_type": "code",
   "execution_count": 122,
   "metadata": {},
   "outputs": [
    {
     "name": "stdout",
     "output_type": "stream",
     "text": [
      "Total sample needed is 1059\n"
     ]
    }
   ],
   "source": [
    "# Calculate total sample or n\n",
    "n = (C-c0)/(c1+c2*m_opt)\n",
    "n = math.ceil(n)\n",
    "print(\"Total sample needed is\", n)"
   ]
  },
  {
   "cell_type": "markdown",
   "metadata": {},
   "source": [
    "The total samples will be allocated to the first stratum for gender groups using proportional allocation, resulting in the following sample sizes:"
   ]
  },
  {
   "cell_type": "code",
   "execution_count": 123,
   "metadata": {},
   "outputs": [
    {
     "data": {
      "text/html": [
       "<div>\n",
       "<style scoped>\n",
       "    .dataframe tbody tr th:only-of-type {\n",
       "        vertical-align: middle;\n",
       "    }\n",
       "\n",
       "    .dataframe tbody tr th {\n",
       "        vertical-align: top;\n",
       "    }\n",
       "\n",
       "    .dataframe thead th {\n",
       "        text-align: right;\n",
       "    }\n",
       "</style>\n",
       "<table border=\"1\" class=\"dataframe\">\n",
       "  <thead>\n",
       "    <tr style=\"text-align: right;\">\n",
       "      <th></th>\n",
       "      <th>Gender</th>\n",
       "      <th>Total Percentage</th>\n",
       "      <th>Total Sample</th>\n",
       "    </tr>\n",
       "  </thead>\n",
       "  <tbody>\n",
       "    <tr>\n",
       "      <th>0</th>\n",
       "      <td>Female</td>\n",
       "      <td>0.495</td>\n",
       "      <td>524.0</td>\n",
       "    </tr>\n",
       "    <tr>\n",
       "      <th>1</th>\n",
       "      <td>Male</td>\n",
       "      <td>0.505</td>\n",
       "      <td>535.0</td>\n",
       "    </tr>\n",
       "  </tbody>\n",
       "</table>\n",
       "</div>"
      ],
      "text/plain": [
       "   Gender  Total Percentage  Total Sample\n",
       "0  Female             0.495         524.0\n",
       "1    Male             0.505         535.0"
      ]
     },
     "execution_count": 123,
     "metadata": {},
     "output_type": "execute_result"
    }
   ],
   "source": [
    "# Duplicate the data of gender distribution\n",
    "df_gender_2020 = copy.copy(initial_2020_gender)\n",
    "df_gender_2020[\"Total Percentage\"] = df_gender_2020[\"Total Percentage\"]/100\n",
    "df_gender_2020[\"Total Sample\"] = round(df_gender_2020[\"Total Percentage\"]*n,0)\n",
    "df_gender_2020\n",
    "\n"
   ]
  },
  {
   "cell_type": "code",
   "execution_count": 124,
   "metadata": {},
   "outputs": [
    {
     "data": {
      "text/html": [
       "<div>\n",
       "<style scoped>\n",
       "    .dataframe tbody tr th:only-of-type {\n",
       "        vertical-align: middle;\n",
       "    }\n",
       "\n",
       "    .dataframe tbody tr th {\n",
       "        vertical-align: top;\n",
       "    }\n",
       "\n",
       "    .dataframe thead th {\n",
       "        text-align: right;\n",
       "    }\n",
       "</style>\n",
       "<table border=\"1\" class=\"dataframe\">\n",
       "  <thead>\n",
       "    <tr style=\"text-align: right;\">\n",
       "      <th></th>\n",
       "      <th>City</th>\n",
       "      <th>Distribution</th>\n",
       "    </tr>\n",
       "  </thead>\n",
       "  <tbody>\n",
       "    <tr>\n",
       "      <th>0</th>\n",
       "      <td>Jakarta Selatan</td>\n",
       "      <td>21.1</td>\n",
       "    </tr>\n",
       "    <tr>\n",
       "      <th>1</th>\n",
       "      <td>Jakarta Timur</td>\n",
       "      <td>28.8</td>\n",
       "    </tr>\n",
       "    <tr>\n",
       "      <th>2</th>\n",
       "      <td>Jakarta Pusat</td>\n",
       "      <td>10.2</td>\n",
       "    </tr>\n",
       "    <tr>\n",
       "      <th>3</th>\n",
       "      <td>Jakarta Barat</td>\n",
       "      <td>23.3</td>\n",
       "    </tr>\n",
       "    <tr>\n",
       "      <th>4</th>\n",
       "      <td>Jakarta Utara</td>\n",
       "      <td>16.6</td>\n",
       "    </tr>\n",
       "  </tbody>\n",
       "</table>\n",
       "</div>"
      ],
      "text/plain": [
       "              City  Distribution\n",
       "0  Jakarta Selatan          21.1\n",
       "1    Jakarta Timur          28.8\n",
       "2    Jakarta Pusat          10.2\n",
       "3    Jakarta Barat          23.3\n",
       "4    Jakarta Utara          16.6"
      ]
     },
     "execution_count": 124,
     "metadata": {},
     "output_type": "execute_result"
    }
   ],
   "source": [
    "initial_2020_city"
   ]
  },
  {
   "cell_type": "markdown",
   "metadata": {},
   "source": [
    "### Stage 2: Dividing/Categorizing the population into five strata (City)"
   ]
  },
  {
   "cell_type": "markdown",
   "metadata": {},
   "source": [
    "This categorization is undertaken because we assume there's differences in per capita expenditure based on the city. We've divided the population into five cities: South Jakarta, East Jakarta, Central Jakarta, West Jakarta, and North Jakarta, using data from BPS DKI Jakarta. We'll calcultae the sample size using proportional allocation as well."
   ]
  },
  {
   "cell_type": "code",
   "execution_count": 125,
   "metadata": {},
   "outputs": [],
   "source": [
    "initial_2020_city\n",
    "gender = df_gender_2020[\"Gender\"].values.tolist()\n",
    "city = initial_2020_city[\"City\"].values.tolist()"
   ]
  },
  {
   "cell_type": "code",
   "execution_count": 126,
   "metadata": {},
   "outputs": [
    {
     "data": {
      "text/html": [
       "<div>\n",
       "<style scoped>\n",
       "    .dataframe tbody tr th:only-of-type {\n",
       "        vertical-align: middle;\n",
       "    }\n",
       "\n",
       "    .dataframe tbody tr th {\n",
       "        vertical-align: top;\n",
       "    }\n",
       "\n",
       "    .dataframe thead th {\n",
       "        text-align: right;\n",
       "    }\n",
       "</style>\n",
       "<table border=\"1\" class=\"dataframe\">\n",
       "  <thead>\n",
       "    <tr style=\"text-align: right;\">\n",
       "      <th></th>\n",
       "      <th>City</th>\n",
       "      <th>Distribution</th>\n",
       "    </tr>\n",
       "  </thead>\n",
       "  <tbody>\n",
       "    <tr>\n",
       "      <th>0</th>\n",
       "      <td>Jakarta Selatan</td>\n",
       "      <td>21.1</td>\n",
       "    </tr>\n",
       "    <tr>\n",
       "      <th>1</th>\n",
       "      <td>Jakarta Timur</td>\n",
       "      <td>28.8</td>\n",
       "    </tr>\n",
       "    <tr>\n",
       "      <th>2</th>\n",
       "      <td>Jakarta Pusat</td>\n",
       "      <td>10.2</td>\n",
       "    </tr>\n",
       "    <tr>\n",
       "      <th>3</th>\n",
       "      <td>Jakarta Barat</td>\n",
       "      <td>23.3</td>\n",
       "    </tr>\n",
       "    <tr>\n",
       "      <th>4</th>\n",
       "      <td>Jakarta Utara</td>\n",
       "      <td>16.6</td>\n",
       "    </tr>\n",
       "  </tbody>\n",
       "</table>\n",
       "</div>"
      ],
      "text/plain": [
       "              City  Distribution\n",
       "0  Jakarta Selatan          21.1\n",
       "1    Jakarta Timur          28.8\n",
       "2    Jakarta Pusat          10.2\n",
       "3    Jakarta Barat          23.3\n",
       "4    Jakarta Utara          16.6"
      ]
     },
     "execution_count": 126,
     "metadata": {},
     "output_type": "execute_result"
    }
   ],
   "source": [
    "initial_2020_city"
   ]
  },
  {
   "cell_type": "code",
   "execution_count": 127,
   "metadata": {},
   "outputs": [
    {
     "data": {
      "text/html": [
       "<div>\n",
       "<style scoped>\n",
       "    .dataframe tbody tr th:only-of-type {\n",
       "        vertical-align: middle;\n",
       "    }\n",
       "\n",
       "    .dataframe tbody tr th {\n",
       "        vertical-align: top;\n",
       "    }\n",
       "\n",
       "    .dataframe thead th {\n",
       "        text-align: right;\n",
       "    }\n",
       "</style>\n",
       "<table border=\"1\" class=\"dataframe\">\n",
       "  <thead>\n",
       "    <tr style=\"text-align: right;\">\n",
       "      <th></th>\n",
       "      <th>Gender</th>\n",
       "      <th>Total Percentage</th>\n",
       "      <th>Total Sample</th>\n",
       "    </tr>\n",
       "  </thead>\n",
       "  <tbody>\n",
       "    <tr>\n",
       "      <th>0</th>\n",
       "      <td>Female</td>\n",
       "      <td>0.495</td>\n",
       "      <td>524.0</td>\n",
       "    </tr>\n",
       "    <tr>\n",
       "      <th>1</th>\n",
       "      <td>Male</td>\n",
       "      <td>0.505</td>\n",
       "      <td>535.0</td>\n",
       "    </tr>\n",
       "  </tbody>\n",
       "</table>\n",
       "</div>"
      ],
      "text/plain": [
       "   Gender  Total Percentage  Total Sample\n",
       "0  Female             0.495         524.0\n",
       "1    Male             0.505         535.0"
      ]
     },
     "execution_count": 127,
     "metadata": {},
     "output_type": "execute_result"
    }
   ],
   "source": [
    "df_gender_2020"
   ]
  },
  {
   "cell_type": "code",
   "execution_count": 128,
   "metadata": {},
   "outputs": [
    {
     "data": {
      "text/html": [
       "<div>\n",
       "<style scoped>\n",
       "    .dataframe tbody tr th:only-of-type {\n",
       "        vertical-align: middle;\n",
       "    }\n",
       "\n",
       "    .dataframe tbody tr th {\n",
       "        vertical-align: top;\n",
       "    }\n",
       "\n",
       "    .dataframe thead th {\n",
       "        text-align: right;\n",
       "    }\n",
       "</style>\n",
       "<table border=\"1\" class=\"dataframe\">\n",
       "  <thead>\n",
       "    <tr style=\"text-align: right;\">\n",
       "      <th></th>\n",
       "      <th>Gender</th>\n",
       "      <th>City</th>\n",
       "    </tr>\n",
       "  </thead>\n",
       "  <tbody>\n",
       "    <tr>\n",
       "      <th>0</th>\n",
       "      <td>Female</td>\n",
       "      <td>South Jakarta</td>\n",
       "    </tr>\n",
       "    <tr>\n",
       "      <th>1</th>\n",
       "      <td>Female</td>\n",
       "      <td>East Jakarta</td>\n",
       "    </tr>\n",
       "    <tr>\n",
       "      <th>2</th>\n",
       "      <td>Female</td>\n",
       "      <td>Central Jakarta</td>\n",
       "    </tr>\n",
       "    <tr>\n",
       "      <th>3</th>\n",
       "      <td>Female</td>\n",
       "      <td>West Jakarta</td>\n",
       "    </tr>\n",
       "    <tr>\n",
       "      <th>4</th>\n",
       "      <td>Female</td>\n",
       "      <td>North Jakarta</td>\n",
       "    </tr>\n",
       "    <tr>\n",
       "      <th>5</th>\n",
       "      <td>Male</td>\n",
       "      <td>South Jakarta</td>\n",
       "    </tr>\n",
       "    <tr>\n",
       "      <th>6</th>\n",
       "      <td>Male</td>\n",
       "      <td>East Jakarta</td>\n",
       "    </tr>\n",
       "    <tr>\n",
       "      <th>7</th>\n",
       "      <td>Male</td>\n",
       "      <td>Central Jakarta</td>\n",
       "    </tr>\n",
       "    <tr>\n",
       "      <th>8</th>\n",
       "      <td>Male</td>\n",
       "      <td>West Jakarta</td>\n",
       "    </tr>\n",
       "    <tr>\n",
       "      <th>9</th>\n",
       "      <td>Male</td>\n",
       "      <td>North Jakarta</td>\n",
       "    </tr>\n",
       "  </tbody>\n",
       "</table>\n",
       "</div>"
      ],
      "text/plain": [
       "   Gender             City\n",
       "0  Female    South Jakarta\n",
       "1  Female     East Jakarta\n",
       "2  Female  Central Jakarta\n",
       "3  Female     West Jakarta\n",
       "4  Female    North Jakarta\n",
       "5    Male    South Jakarta\n",
       "6    Male     East Jakarta\n",
       "7    Male  Central Jakarta\n",
       "8    Male     West Jakarta\n",
       "9    Male    North Jakarta"
      ]
     },
     "execution_count": 128,
     "metadata": {},
     "output_type": "execute_result"
    }
   ],
   "source": [
    "sampling_design = pd.DataFrame({'Gender' : ['Female','Female','Female','Female','Female','Male','Male','Male','Male','Male'],\n",
    "                                 'City' : ['South Jakarta', 'East Jakarta', 'Central Jakarta', 'West Jakarta', 'North Jakarta',\n",
    "                                            'South Jakarta', 'East Jakarta', 'Central Jakarta', 'West Jakarta', 'North Jakarta']})\n",
    "sampling_design"
   ]
  },
  {
   "cell_type": "code",
   "execution_count": 129,
   "metadata": {},
   "outputs": [
    {
     "name": "stderr",
     "output_type": "stream",
     "text": [
      "C:\\Users\\rifap\\AppData\\Local\\Temp\\ipykernel_26224\\3700200036.py:5: SettingWithCopyWarning: \n",
      "A value is trying to be set on a copy of a slice from a DataFrame\n",
      "\n",
      "See the caveats in the documentation: https://pandas.pydata.org/pandas-docs/stable/user_guide/indexing.html#returning-a-view-versus-a-copy\n",
      "  sampling_design[\"Total Sample\"].iloc[5:10] = round((initial_2020_city[\"Distribution\"].iloc[0:5]/100) * df_gender_2020[\"Total Sample\"][1])\n"
     ]
    }
   ],
   "source": [
    "# Calculate total sample for female\n",
    "sampling_design[\"Total Sample\"] = round((initial_2020_city[\"Distribution\"].iloc[0:5]/100) * df_gender_2020[\"Total Sample\"][0])\n",
    "\n",
    "# Calculate total sample for male\n",
    "sampling_design[\"Total Sample\"].iloc[5:10] = round((initial_2020_city[\"Distribution\"].iloc[0:5]/100) * df_gender_2020[\"Total Sample\"][1])\n"
   ]
  },
  {
   "cell_type": "code",
   "execution_count": 130,
   "metadata": {},
   "outputs": [
    {
     "data": {
      "text/html": [
       "<div>\n",
       "<style scoped>\n",
       "    .dataframe tbody tr th:only-of-type {\n",
       "        vertical-align: middle;\n",
       "    }\n",
       "\n",
       "    .dataframe tbody tr th {\n",
       "        vertical-align: top;\n",
       "    }\n",
       "\n",
       "    .dataframe thead th {\n",
       "        text-align: right;\n",
       "    }\n",
       "</style>\n",
       "<table border=\"1\" class=\"dataframe\">\n",
       "  <thead>\n",
       "    <tr style=\"text-align: right;\">\n",
       "      <th></th>\n",
       "      <th>Gender</th>\n",
       "      <th>City</th>\n",
       "      <th>Total Sample</th>\n",
       "    </tr>\n",
       "  </thead>\n",
       "  <tbody>\n",
       "    <tr>\n",
       "      <th>0</th>\n",
       "      <td>Female</td>\n",
       "      <td>South Jakarta</td>\n",
       "      <td>111.0</td>\n",
       "    </tr>\n",
       "    <tr>\n",
       "      <th>1</th>\n",
       "      <td>Female</td>\n",
       "      <td>East Jakarta</td>\n",
       "      <td>151.0</td>\n",
       "    </tr>\n",
       "    <tr>\n",
       "      <th>2</th>\n",
       "      <td>Female</td>\n",
       "      <td>Central Jakarta</td>\n",
       "      <td>53.0</td>\n",
       "    </tr>\n",
       "    <tr>\n",
       "      <th>3</th>\n",
       "      <td>Female</td>\n",
       "      <td>West Jakarta</td>\n",
       "      <td>122.0</td>\n",
       "    </tr>\n",
       "    <tr>\n",
       "      <th>4</th>\n",
       "      <td>Female</td>\n",
       "      <td>North Jakarta</td>\n",
       "      <td>87.0</td>\n",
       "    </tr>\n",
       "    <tr>\n",
       "      <th>5</th>\n",
       "      <td>Male</td>\n",
       "      <td>South Jakarta</td>\n",
       "      <td>113.0</td>\n",
       "    </tr>\n",
       "    <tr>\n",
       "      <th>6</th>\n",
       "      <td>Male</td>\n",
       "      <td>East Jakarta</td>\n",
       "      <td>154.0</td>\n",
       "    </tr>\n",
       "    <tr>\n",
       "      <th>7</th>\n",
       "      <td>Male</td>\n",
       "      <td>Central Jakarta</td>\n",
       "      <td>55.0</td>\n",
       "    </tr>\n",
       "    <tr>\n",
       "      <th>8</th>\n",
       "      <td>Male</td>\n",
       "      <td>West Jakarta</td>\n",
       "      <td>125.0</td>\n",
       "    </tr>\n",
       "    <tr>\n",
       "      <th>9</th>\n",
       "      <td>Male</td>\n",
       "      <td>North Jakarta</td>\n",
       "      <td>89.0</td>\n",
       "    </tr>\n",
       "  </tbody>\n",
       "</table>\n",
       "</div>"
      ],
      "text/plain": [
       "   Gender             City  Total Sample\n",
       "0  Female    South Jakarta         111.0\n",
       "1  Female     East Jakarta         151.0\n",
       "2  Female  Central Jakarta          53.0\n",
       "3  Female     West Jakarta         122.0\n",
       "4  Female    North Jakarta          87.0\n",
       "5    Male    South Jakarta         113.0\n",
       "6    Male     East Jakarta         154.0\n",
       "7    Male  Central Jakarta          55.0\n",
       "8    Male     West Jakarta         125.0\n",
       "9    Male    North Jakarta          89.0"
      ]
     },
     "execution_count": 130,
     "metadata": {},
     "output_type": "execute_result"
    }
   ],
   "source": [
    "sampling_design"
   ]
  },
  {
   "cell_type": "markdown",
   "metadata": {},
   "source": [
    "### Stage 3: Cluster sampling for sitrict within each stratum\n"
   ]
  },
  {
   "cell_type": "markdown",
   "metadata": {},
   "source": [
    "The calculation of district clusters used for sampling is determined through the cluster sampling design calculations above. So we need to calculate the total sample for each city with these formulas:\n",
    "<br> n = Ν * σ² /N * D + σ²\n",
    "<br> σc² = 1 / (N - 1) * Σ(i = 1 to N) (yi - μ * Mi)²\n",
    "<br> D = (B ^ 2)/(4N ^ 2)"
   ]
  },
  {
   "cell_type": "code",
   "execution_count": 131,
   "metadata": {},
   "outputs": [
    {
     "data": {
      "text/html": [
       "<div>\n",
       "<style scoped>\n",
       "    .dataframe tbody tr th:only-of-type {\n",
       "        vertical-align: middle;\n",
       "    }\n",
       "\n",
       "    .dataframe tbody tr th {\n",
       "        vertical-align: top;\n",
       "    }\n",
       "\n",
       "    .dataframe thead th {\n",
       "        text-align: right;\n",
       "    }\n",
       "</style>\n",
       "<table border=\"1\" class=\"dataframe\">\n",
       "  <thead>\n",
       "    <tr style=\"text-align: right;\">\n",
       "      <th></th>\n",
       "      <th>Total Sample</th>\n",
       "    </tr>\n",
       "    <tr>\n",
       "      <th>City</th>\n",
       "      <th></th>\n",
       "    </tr>\n",
       "  </thead>\n",
       "  <tbody>\n",
       "    <tr>\n",
       "      <th>Central Jakarta</th>\n",
       "      <td>108.0</td>\n",
       "    </tr>\n",
       "    <tr>\n",
       "      <th>East Jakarta</th>\n",
       "      <td>305.0</td>\n",
       "    </tr>\n",
       "    <tr>\n",
       "      <th>North Jakarta</th>\n",
       "      <td>176.0</td>\n",
       "    </tr>\n",
       "    <tr>\n",
       "      <th>South Jakarta</th>\n",
       "      <td>224.0</td>\n",
       "    </tr>\n",
       "    <tr>\n",
       "      <th>West Jakarta</th>\n",
       "      <td>247.0</td>\n",
       "    </tr>\n",
       "  </tbody>\n",
       "</table>\n",
       "</div>"
      ],
      "text/plain": [
       "                 Total Sample\n",
       "City                         \n",
       "Central Jakarta         108.0\n",
       "East Jakarta            305.0\n",
       "North Jakarta           176.0\n",
       "South Jakarta           224.0\n",
       "West Jakarta            247.0"
      ]
     },
     "execution_count": 131,
     "metadata": {},
     "output_type": "execute_result"
    }
   ],
   "source": [
    "# Calculate the total sample needed for each city\n",
    "sample_per_city = sampling_design.groupby([\"City\"]).sum(numeric_only=True)\n",
    "sample_per_city "
   ]
  },
  {
   "cell_type": "code",
   "execution_count": 132,
   "metadata": {},
   "outputs": [
    {
     "name": "stdout",
     "output_type": "stream",
     "text": [
      "Total sample needed is  1060.0\n"
     ]
    }
   ],
   "source": [
    "# Total sample from all cities\n",
    "total_sample_agg = sampling_design[\"Total Sample\"].sum()\n",
    "print(\"Total sample needed is \",total_sample_agg)"
   ]
  },
  {
   "cell_type": "code",
   "execution_count": 133,
   "metadata": {},
   "outputs": [
    {
     "data": {
      "text/html": [
       "<div>\n",
       "<style scoped>\n",
       "    .dataframe tbody tr th:only-of-type {\n",
       "        vertical-align: middle;\n",
       "    }\n",
       "\n",
       "    .dataframe tbody tr th {\n",
       "        vertical-align: top;\n",
       "    }\n",
       "\n",
       "    .dataframe thead th {\n",
       "        text-align: right;\n",
       "    }\n",
       "</style>\n",
       "<table border=\"1\" class=\"dataframe\">\n",
       "  <thead>\n",
       "    <tr style=\"text-align: right;\">\n",
       "      <th></th>\n",
       "      <th>City</th>\n",
       "      <th>Total district</th>\n",
       "    </tr>\n",
       "  </thead>\n",
       "  <tbody>\n",
       "    <tr>\n",
       "      <th>0</th>\n",
       "      <td>South Jakarta</td>\n",
       "      <td>10</td>\n",
       "    </tr>\n",
       "    <tr>\n",
       "      <th>1</th>\n",
       "      <td>East Jakarta</td>\n",
       "      <td>10</td>\n",
       "    </tr>\n",
       "    <tr>\n",
       "      <th>2</th>\n",
       "      <td>Centra Jakarta</td>\n",
       "      <td>8</td>\n",
       "    </tr>\n",
       "    <tr>\n",
       "      <th>3</th>\n",
       "      <td>West Jakarta</td>\n",
       "      <td>8</td>\n",
       "    </tr>\n",
       "    <tr>\n",
       "      <th>4</th>\n",
       "      <td>North Jakarta</td>\n",
       "      <td>6</td>\n",
       "    </tr>\n",
       "  </tbody>\n",
       "</table>\n",
       "</div>"
      ],
      "text/plain": [
       "             City  Total district\n",
       "0   South Jakarta              10\n",
       "1    East Jakarta              10\n",
       "2  Centra Jakarta               8\n",
       "3    West Jakarta               8\n",
       "4   North Jakarta               6"
      ]
     },
     "execution_count": 133,
     "metadata": {},
     "output_type": "execute_result"
    }
   ],
   "source": [
    "# Display district table\n",
    "initial_2020_district"
   ]
  },
  {
   "cell_type": "code",
   "execution_count": 134,
   "metadata": {},
   "outputs": [
    {
     "data": {
      "text/plain": [
       "[108.0, 305.0, 176.0, 224.0, 247.0]"
      ]
     },
     "execution_count": 134,
     "metadata": {},
     "output_type": "execute_result"
    }
   ],
   "source": [
    "# Extract total sample values for each district\n",
    "sample_district = sample_per_city.iloc[0:5, 0].tolist()\n",
    "\n",
    "# Display the result\n",
    "sample_district\n"
   ]
  },
  {
   "cell_type": "code",
   "execution_count": 135,
   "metadata": {},
   "outputs": [
    {
     "data": {
      "text/html": [
       "<div>\n",
       "<style scoped>\n",
       "    .dataframe tbody tr th:only-of-type {\n",
       "        vertical-align: middle;\n",
       "    }\n",
       "\n",
       "    .dataframe tbody tr th {\n",
       "        vertical-align: top;\n",
       "    }\n",
       "\n",
       "    .dataframe thead th {\n",
       "        text-align: right;\n",
       "    }\n",
       "</style>\n",
       "<table border=\"1\" class=\"dataframe\">\n",
       "  <thead>\n",
       "    <tr style=\"text-align: right;\">\n",
       "      <th></th>\n",
       "      <th>City</th>\n",
       "      <th>Total district</th>\n",
       "      <th>M District</th>\n",
       "    </tr>\n",
       "  </thead>\n",
       "  <tbody>\n",
       "    <tr>\n",
       "      <th>0</th>\n",
       "      <td>South Jakarta</td>\n",
       "      <td>10</td>\n",
       "      <td>108.0</td>\n",
       "    </tr>\n",
       "    <tr>\n",
       "      <th>1</th>\n",
       "      <td>East Jakarta</td>\n",
       "      <td>10</td>\n",
       "      <td>305.0</td>\n",
       "    </tr>\n",
       "    <tr>\n",
       "      <th>2</th>\n",
       "      <td>Centra Jakarta</td>\n",
       "      <td>8</td>\n",
       "      <td>176.0</td>\n",
       "    </tr>\n",
       "    <tr>\n",
       "      <th>3</th>\n",
       "      <td>West Jakarta</td>\n",
       "      <td>8</td>\n",
       "      <td>224.0</td>\n",
       "    </tr>\n",
       "    <tr>\n",
       "      <th>4</th>\n",
       "      <td>North Jakarta</td>\n",
       "      <td>6</td>\n",
       "      <td>247.0</td>\n",
       "    </tr>\n",
       "  </tbody>\n",
       "</table>\n",
       "</div>"
      ],
      "text/plain": [
       "             City  Total district  M District\n",
       "0   South Jakarta              10       108.0\n",
       "1    East Jakarta              10       305.0\n",
       "2  Centra Jakarta               8       176.0\n",
       "3    West Jakarta               8       224.0\n",
       "4   North Jakarta               6       247.0"
      ]
     },
     "execution_count": 135,
     "metadata": {},
     "output_type": "execute_result"
    }
   ],
   "source": [
    "# Input the data into the table\n",
    "initial_2020_district[\"M District\"] = sample_district\n",
    "initial_2020_district"
   ]
  },
  {
   "cell_type": "code",
   "execution_count": 136,
   "metadata": {},
   "outputs": [
    {
     "data": {
      "text/html": [
       "<div>\n",
       "<style scoped>\n",
       "    .dataframe tbody tr th:only-of-type {\n",
       "        vertical-align: middle;\n",
       "    }\n",
       "\n",
       "    .dataframe tbody tr th {\n",
       "        vertical-align: top;\n",
       "    }\n",
       "\n",
       "    .dataframe thead th {\n",
       "        text-align: right;\n",
       "    }\n",
       "</style>\n",
       "<table border=\"1\" class=\"dataframe\">\n",
       "  <thead>\n",
       "    <tr style=\"text-align: right;\">\n",
       "      <th></th>\n",
       "      <th>City</th>\n",
       "      <th>Male</th>\n",
       "      <th>Female</th>\n",
       "      <th>Mean</th>\n",
       "      <th>Variance</th>\n",
       "      <th>y</th>\n",
       "      <th>miu x m</th>\n",
       "      <th>(y-miu x m)^2</th>\n",
       "      <th>sigma c</th>\n",
       "      <th>D</th>\n",
       "      <th>n</th>\n",
       "    </tr>\n",
       "  </thead>\n",
       "  <tbody>\n",
       "    <tr>\n",
       "      <th>0</th>\n",
       "      <td>South Jakarta</td>\n",
       "      <td>27360314</td>\n",
       "      <td>23003910</td>\n",
       "      <td>2717039</td>\n",
       "      <td>210725066304</td>\n",
       "      <td>293440212.0</td>\n",
       "      <td>243863028.0</td>\n",
       "      <td>2.457897e+15</td>\n",
       "      <td>2.730997e+14</td>\n",
       "      <td>2.500000e+11</td>\n",
       "      <td>10.0</td>\n",
       "    </tr>\n",
       "    <tr>\n",
       "      <th>1</th>\n",
       "      <td>East Jakarta</td>\n",
       "      <td>21873567</td>\n",
       "      <td>17113162</td>\n",
       "      <td>1866273</td>\n",
       "      <td>153442991524</td>\n",
       "      <td>569213265.0</td>\n",
       "      <td>688687255.0</td>\n",
       "      <td>1.427403e+16</td>\n",
       "      <td>1.586004e+15</td>\n",
       "      <td>2.500000e+11</td>\n",
       "      <td>10.0</td>\n",
       "    </tr>\n",
       "    <tr>\n",
       "      <th>2</th>\n",
       "      <td>Central Jakarta</td>\n",
       "      <td>19390719</td>\n",
       "      <td>16577167</td>\n",
       "      <td>2388623</td>\n",
       "      <td>17064719424</td>\n",
       "      <td>420397648.0</td>\n",
       "      <td>397406416.0</td>\n",
       "      <td>5.285967e+14</td>\n",
       "      <td>7.551382e+13</td>\n",
       "      <td>3.906250e+11</td>\n",
       "      <td>8.0</td>\n",
       "    </tr>\n",
       "    <tr>\n",
       "      <th>3</th>\n",
       "      <td>West Jakarta</td>\n",
       "      <td>23697197</td>\n",
       "      <td>19398457</td>\n",
       "      <td>2236259</td>\n",
       "      <td>472279824</td>\n",
       "      <td>500922016.0</td>\n",
       "      <td>505789984.0</td>\n",
       "      <td>2.369711e+13</td>\n",
       "      <td>3.385302e+12</td>\n",
       "      <td>3.906250e+11</td>\n",
       "      <td>4.0</td>\n",
       "    </tr>\n",
       "    <tr>\n",
       "      <th>4</th>\n",
       "      <td>North Jakarta</td>\n",
       "      <td>26025198</td>\n",
       "      <td>18087289</td>\n",
       "      <td>2297793</td>\n",
       "      <td>1584199204</td>\n",
       "      <td>567554871.0</td>\n",
       "      <td>557723777.0</td>\n",
       "      <td>9.665041e+13</td>\n",
       "      <td>1.933008e+13</td>\n",
       "      <td>6.944444e+11</td>\n",
       "      <td>5.0</td>\n",
       "    </tr>\n",
       "    <tr>\n",
       "      <th>5</th>\n",
       "      <td>DKI Jakarta</td>\n",
       "      <td>22614576</td>\n",
       "      <td>16742345</td>\n",
       "      <td>2257991</td>\n",
       "      <td>0</td>\n",
       "      <td>NaN</td>\n",
       "      <td>NaN</td>\n",
       "      <td>NaN</td>\n",
       "      <td>NaN</td>\n",
       "      <td>NaN</td>\n",
       "      <td>NaN</td>\n",
       "    </tr>\n",
       "  </tbody>\n",
       "</table>\n",
       "</div>"
      ],
      "text/plain": [
       "              City      Male    Female     Mean      Variance            y  \\\n",
       "0    South Jakarta  27360314  23003910  2717039  210725066304  293440212.0   \n",
       "1     East Jakarta  21873567  17113162  1866273  153442991524  569213265.0   \n",
       "2  Central Jakarta  19390719  16577167  2388623   17064719424  420397648.0   \n",
       "3     West Jakarta  23697197  19398457  2236259     472279824  500922016.0   \n",
       "4    North Jakarta  26025198  18087289  2297793    1584199204  567554871.0   \n",
       "5      DKI Jakarta  22614576  16742345  2257991             0          NaN   \n",
       "\n",
       "       miu x m  (y-miu x m)^2       sigma c             D     n  \n",
       "0  243863028.0   2.457897e+15  2.730997e+14  2.500000e+11  10.0  \n",
       "1  688687255.0   1.427403e+16  1.586004e+15  2.500000e+11  10.0  \n",
       "2  397406416.0   5.285967e+14  7.551382e+13  3.906250e+11   8.0  \n",
       "3  505789984.0   2.369711e+13  3.385302e+12  3.906250e+11   4.0  \n",
       "4  557723777.0   9.665041e+13  1.933008e+13  6.944444e+11   5.0  \n",
       "5          NaN            NaN           NaN           NaN   NaN  "
      ]
     },
     "execution_count": 136,
     "metadata": {},
     "output_type": "execute_result"
    }
   ],
   "source": [
    "# Make an assumption for the value of B, setting it at 10,000,000\n",
    "B = 10000000\n",
    "\n",
    "# Calculate \"y\" and \"miu x m\"\n",
    "initial_2020_gender_exp[\"y\"] = initial_2020_gender_exp[\"Mean\"][0:5]*initial_2020_district[\"M District\"]\n",
    "initial_2020_gender_exp[\"miu x m\"] = clean_2020_exp*initial_2020_district[\"M District\"]\n",
    "\n",
    "# Calculate \"(y-miu x m)^2\"\n",
    "initial_2020_gender_exp[\"(y-miu x m)^2\"] = (initial_2020_gender_exp[\"y\"] - initial_2020_gender_exp[\"miu x m\"])**2\n",
    "\n",
    "# Calculate \"sigma c\"\n",
    "initial_2020_gender_exp[\"sigma c\"] = initial_2020_gender_exp[\"(y-miu x m)^2\"] / (initial_2020_district[\"Total district\"].iloc[0:5] - 1)\n",
    "\n",
    "# Calculate \"D\"\n",
    "initial_2020_gender_exp[\"D\"] = B**2 / (4 * initial_2020_district[\"Total district\"].iloc[0:5]**2)\n",
    "\n",
    "# Calculate \"n\" with rounding\n",
    "initial_2020_gender_exp[\"n\"] = round((initial_2020_district[\"Total district\"].iloc[0:5] * initial_2020_gender_exp[\"sigma c\"]) / (initial_2020_district[\"Total district\"].iloc[0:5] * initial_2020_gender_exp[\"D\"] + initial_2020_gender_exp[\"sigma c\"]))\n",
    "\n",
    "# Display the DataFrame\n",
    "initial_2020_gender_exp"
   ]
  },
  {
   "cell_type": "markdown",
   "metadata": {},
   "source": [
    "### Stage 4: Sampling using Simple Random Sampling method or SRS"
   ]
  },
  {
   "cell_type": "code",
   "execution_count": 137,
   "metadata": {},
   "outputs": [
    {
     "name": "stderr",
     "output_type": "stream",
     "text": [
      "C:\\Users\\rifap\\AppData\\Local\\Temp\\ipykernel_26224\\640481322.py:3: SettingWithCopyWarning: \n",
      "A value is trying to be set on a copy of a slice from a DataFrame\n",
      "\n",
      "See the caveats in the documentation: https://pandas.pydata.org/pandas-docs/stable/user_guide/indexing.html#returning-a-view-versus-a-copy\n",
      "  sampling_design[\"Total Sample District\"][5:20] = initial_2020_gender_exp[\"n\"][0:5]\n"
     ]
    },
    {
     "data": {
      "text/html": [
       "<div>\n",
       "<style scoped>\n",
       "    .dataframe tbody tr th:only-of-type {\n",
       "        vertical-align: middle;\n",
       "    }\n",
       "\n",
       "    .dataframe tbody tr th {\n",
       "        vertical-align: top;\n",
       "    }\n",
       "\n",
       "    .dataframe thead th {\n",
       "        text-align: right;\n",
       "    }\n",
       "</style>\n",
       "<table border=\"1\" class=\"dataframe\">\n",
       "  <thead>\n",
       "    <tr style=\"text-align: right;\">\n",
       "      <th></th>\n",
       "      <th>Gender</th>\n",
       "      <th>City</th>\n",
       "      <th>Total Sample</th>\n",
       "      <th>Total Sample District</th>\n",
       "    </tr>\n",
       "  </thead>\n",
       "  <tbody>\n",
       "    <tr>\n",
       "      <th>0</th>\n",
       "      <td>Female</td>\n",
       "      <td>South Jakarta</td>\n",
       "      <td>111.0</td>\n",
       "      <td>10.0</td>\n",
       "    </tr>\n",
       "    <tr>\n",
       "      <th>1</th>\n",
       "      <td>Female</td>\n",
       "      <td>East Jakarta</td>\n",
       "      <td>151.0</td>\n",
       "      <td>10.0</td>\n",
       "    </tr>\n",
       "    <tr>\n",
       "      <th>2</th>\n",
       "      <td>Female</td>\n",
       "      <td>Central Jakarta</td>\n",
       "      <td>53.0</td>\n",
       "      <td>8.0</td>\n",
       "    </tr>\n",
       "    <tr>\n",
       "      <th>3</th>\n",
       "      <td>Female</td>\n",
       "      <td>West Jakarta</td>\n",
       "      <td>122.0</td>\n",
       "      <td>4.0</td>\n",
       "    </tr>\n",
       "    <tr>\n",
       "      <th>4</th>\n",
       "      <td>Female</td>\n",
       "      <td>North Jakarta</td>\n",
       "      <td>87.0</td>\n",
       "      <td>5.0</td>\n",
       "    </tr>\n",
       "    <tr>\n",
       "      <th>5</th>\n",
       "      <td>Male</td>\n",
       "      <td>South Jakarta</td>\n",
       "      <td>113.0</td>\n",
       "      <td>10.0</td>\n",
       "    </tr>\n",
       "    <tr>\n",
       "      <th>6</th>\n",
       "      <td>Male</td>\n",
       "      <td>East Jakarta</td>\n",
       "      <td>154.0</td>\n",
       "      <td>10.0</td>\n",
       "    </tr>\n",
       "    <tr>\n",
       "      <th>7</th>\n",
       "      <td>Male</td>\n",
       "      <td>Central Jakarta</td>\n",
       "      <td>55.0</td>\n",
       "      <td>8.0</td>\n",
       "    </tr>\n",
       "    <tr>\n",
       "      <th>8</th>\n",
       "      <td>Male</td>\n",
       "      <td>West Jakarta</td>\n",
       "      <td>125.0</td>\n",
       "      <td>4.0</td>\n",
       "    </tr>\n",
       "    <tr>\n",
       "      <th>9</th>\n",
       "      <td>Male</td>\n",
       "      <td>North Jakarta</td>\n",
       "      <td>89.0</td>\n",
       "      <td>5.0</td>\n",
       "    </tr>\n",
       "  </tbody>\n",
       "</table>\n",
       "</div>"
      ],
      "text/plain": [
       "   Gender             City  Total Sample  Total Sample District\n",
       "0  Female    South Jakarta         111.0                   10.0\n",
       "1  Female     East Jakarta         151.0                   10.0\n",
       "2  Female  Central Jakarta          53.0                    8.0\n",
       "3  Female     West Jakarta         122.0                    4.0\n",
       "4  Female    North Jakarta          87.0                    5.0\n",
       "5    Male    South Jakarta         113.0                   10.0\n",
       "6    Male     East Jakarta         154.0                   10.0\n",
       "7    Male  Central Jakarta          55.0                    8.0\n",
       "8    Male     West Jakarta         125.0                    4.0\n",
       "9    Male    North Jakarta          89.0                    5.0"
      ]
     },
     "execution_count": 137,
     "metadata": {},
     "output_type": "execute_result"
    }
   ],
   "source": [
    "# Create a new column in \"sampling_design\" DataFrame to store the \"Total Sample District\"\n",
    "sampling_design[\"Total Sample District\"] = initial_2020_gender_exp[\"n\"][0:5]\n",
    "sampling_design[\"Total Sample District\"][5:20] = initial_2020_gender_exp[\"n\"][0:5]\n",
    "sampling_design"
   ]
  },
  {
   "cell_type": "markdown",
   "metadata": {},
   "source": [
    "I try to calculate the distribution of each district manually by excel and here is the result"
   ]
  },
  {
   "cell_type": "code",
   "execution_count": 138,
   "metadata": {},
   "outputs": [
    {
     "data": {
      "text/html": [
       "<div>\n",
       "<style scoped>\n",
       "    .dataframe tbody tr th:only-of-type {\n",
       "        vertical-align: middle;\n",
       "    }\n",
       "\n",
       "    .dataframe tbody tr th {\n",
       "        vertical-align: top;\n",
       "    }\n",
       "\n",
       "    .dataframe thead th {\n",
       "        text-align: right;\n",
       "    }\n",
       "</style>\n",
       "<table border=\"1\" class=\"dataframe\">\n",
       "  <thead>\n",
       "    <tr style=\"text-align: right;\">\n",
       "      <th></th>\n",
       "      <th>Gender</th>\n",
       "      <th>City</th>\n",
       "      <th>Total Sample</th>\n",
       "      <th>Total Sample District</th>\n",
       "      <th>District Distribution</th>\n",
       "    </tr>\n",
       "  </thead>\n",
       "  <tbody>\n",
       "    <tr>\n",
       "      <th>0</th>\n",
       "      <td>Female</td>\n",
       "      <td>South Jakarta</td>\n",
       "      <td>111.0</td>\n",
       "      <td>10.0</td>\n",
       "      <td>[10, 10, 10, 10, 10, 10, 10, 10, 11, 11]</td>\n",
       "    </tr>\n",
       "    <tr>\n",
       "      <th>1</th>\n",
       "      <td>Female</td>\n",
       "      <td>East Jakarta</td>\n",
       "      <td>151.0</td>\n",
       "      <td>10.0</td>\n",
       "      <td>[15, 15, 15, 15, 15, 15, 15, 15, 15, 16]</td>\n",
       "    </tr>\n",
       "    <tr>\n",
       "      <th>2</th>\n",
       "      <td>Female</td>\n",
       "      <td>Central Jakarta</td>\n",
       "      <td>53.0</td>\n",
       "      <td>8.0</td>\n",
       "      <td>[7, 7, 7, 7, 7, 7, 7, 4]</td>\n",
       "    </tr>\n",
       "    <tr>\n",
       "      <th>3</th>\n",
       "      <td>Female</td>\n",
       "      <td>West Jakarta</td>\n",
       "      <td>122.0</td>\n",
       "      <td>4.0</td>\n",
       "      <td>[31, 31, 30, 30]</td>\n",
       "    </tr>\n",
       "    <tr>\n",
       "      <th>4</th>\n",
       "      <td>Female</td>\n",
       "      <td>North Jakarta</td>\n",
       "      <td>87.0</td>\n",
       "      <td>5.0</td>\n",
       "      <td>[17, 17, 17, 18, 18]</td>\n",
       "    </tr>\n",
       "    <tr>\n",
       "      <th>5</th>\n",
       "      <td>Male</td>\n",
       "      <td>South Jakarta</td>\n",
       "      <td>113.0</td>\n",
       "      <td>10.0</td>\n",
       "      <td>[11, 11, 11, 11, 11, 11, 11, 11, 11, 12]</td>\n",
       "    </tr>\n",
       "    <tr>\n",
       "      <th>6</th>\n",
       "      <td>Male</td>\n",
       "      <td>East Jakarta</td>\n",
       "      <td>154.0</td>\n",
       "      <td>10.0</td>\n",
       "      <td>[15, 15, 15, 15, 15, 15, 15, 15, 15, 16]</td>\n",
       "    </tr>\n",
       "    <tr>\n",
       "      <th>7</th>\n",
       "      <td>Male</td>\n",
       "      <td>Central Jakarta</td>\n",
       "      <td>55.0</td>\n",
       "      <td>8.0</td>\n",
       "      <td>[7, 7, 7, 7, 7, 7, 7, 6]</td>\n",
       "    </tr>\n",
       "    <tr>\n",
       "      <th>8</th>\n",
       "      <td>Male</td>\n",
       "      <td>West Jakarta</td>\n",
       "      <td>125.0</td>\n",
       "      <td>4.0</td>\n",
       "      <td>[31, 31, 31, 32]</td>\n",
       "    </tr>\n",
       "    <tr>\n",
       "      <th>9</th>\n",
       "      <td>Male</td>\n",
       "      <td>North Jakarta</td>\n",
       "      <td>89.0</td>\n",
       "      <td>5.0</td>\n",
       "      <td>[18, 18, 18, 18, 17]</td>\n",
       "    </tr>\n",
       "  </tbody>\n",
       "</table>\n",
       "</div>"
      ],
      "text/plain": [
       "   Gender             City  Total Sample  Total Sample District  \\\n",
       "0  Female    South Jakarta         111.0                   10.0   \n",
       "1  Female     East Jakarta         151.0                   10.0   \n",
       "2  Female  Central Jakarta          53.0                    8.0   \n",
       "3  Female     West Jakarta         122.0                    4.0   \n",
       "4  Female    North Jakarta          87.0                    5.0   \n",
       "5    Male    South Jakarta         113.0                   10.0   \n",
       "6    Male     East Jakarta         154.0                   10.0   \n",
       "7    Male  Central Jakarta          55.0                    8.0   \n",
       "8    Male     West Jakarta         125.0                    4.0   \n",
       "9    Male    North Jakarta          89.0                    5.0   \n",
       "\n",
       "                      District Distribution  \n",
       "0  [10, 10, 10, 10, 10, 10, 10, 10, 11, 11]  \n",
       "1  [15, 15, 15, 15, 15, 15, 15, 15, 15, 16]  \n",
       "2                  [7, 7, 7, 7, 7, 7, 7, 4]  \n",
       "3                          [31, 31, 30, 30]  \n",
       "4                      [17, 17, 17, 18, 18]  \n",
       "5  [11, 11, 11, 11, 11, 11, 11, 11, 11, 12]  \n",
       "6  [15, 15, 15, 15, 15, 15, 15, 15, 15, 16]  \n",
       "7                  [7, 7, 7, 7, 7, 7, 7, 6]  \n",
       "8                          [31, 31, 31, 32]  \n",
       "9                      [18, 18, 18, 18, 17]  "
      ]
     },
     "execution_count": 138,
     "metadata": {},
     "output_type": "execute_result"
    }
   ],
   "source": [
    "new_value = [\n",
    "    [10, 10, 10, 10, 10, 10, 10, 10, 11, 11],\n",
    "    [15, 15, 15, 15, 15, 15, 15, 15, 15, 16],\n",
    "    [7, 7, 7, 7, 7, 7, 7, 4],\n",
    "    [31, 31, 30, 30],\n",
    "    [17, 17, 17, 18, 18],\n",
    "    [11, 11, 11, 11, 11, 11, 11, 11, 11, 12],\n",
    "    [15, 15, 15, 15, 15, 15, 15, 15, 15, 16],\n",
    "    [7, 7, 7, 7, 7, 7, 7, 6],\n",
    "    [31, 31, 31, 32],\n",
    "    [18, 18, 18, 18, 17]\n",
    "]\n",
    "sampling_design[\"District Distribution\"] = new_value\n",
    "sampling_design"
   ]
  },
  {
   "cell_type": "markdown",
   "metadata": {},
   "source": [
    "## F. Data Collection Method"
   ]
  },
  {
   "cell_type": "markdown",
   "metadata": {},
   "source": [
    "The data collection method for the sampling of per capita expenditure in DKI Jakarta in 2020 is a crucial component in understanding the economic landscape of this region. We use phone and online messenger surveys for this purpose, which offer advantages like cost-effectiveness and speed compared to traditional methods like face-to-face interviews or mailed questionnaires. To begin, we gather a random sample of phone numbers from the target population, and trained interviewers call these numbers to collect data through a series of questions.\n",
    "\n",
    "<br> However, there are some important considerations to bear in mind. Ensuring that the sample truly reflects the population is crucial. Interviewers need to be skilled in phone interviews to get reliable answers. Costs can be a factor, and sometimes people may not be available or willing to participate. Also, responses may not always be completely accurate. Collecting the data through phone interview or online messages are popular due to its convenience and lower cost."
   ]
  },
  {
   "cell_type": "markdown",
   "metadata": {},
   "source": [
    "## G. Parameter Estimation Method"
   ]
  },
  {
   "cell_type": "markdown",
   "metadata": {},
   "source": [
    "Following the execution of the sampling method as described previously, the data obtained from the samples can be used to estimate the expenditure per capita of self-employed individuals in DKI Jakarta's population. The parameters of interest for inference include the total, mean, and variance.Here is the formula:\n",
    "\n",
    "a. An unbiased estimator of the population\n",
    "<br>![image](https://github.com/rifaisyap/sampling_project/assets/134842689/7e9898c8-fd7d-409f-843c-9f63db2b33ad)\n",
    "\n",
    "\n",
    "b. The variance formula\n",
    "<br>![image](https://github.com/rifaisyap/sampling_project/assets/134842689/116c1419-8b43-406b-88c0-a80ee38d53f1)\n",
    "\n",
    "\n",
    "c. The mean formula\n",
    "<br>![image](https://github.com/rifaisyap/sampling_project/assets/134842689/cf4077f1-d068-4e7f-9584-d851993f1be5)\n",
    "\n",
    "<br> Once the sampling is completed, the obtained sample results can be input into the equation mentioned earlier to derive sample statistics that closely estimate the population parameters.\n"
   ]
  },
  {
   "cell_type": "markdown",
   "metadata": {},
   "source": [
    "## H. Analysis & Conclusion"
   ]
  },
  {
   "cell_type": "markdown",
   "metadata": {},
   "source": [
    "Based on the results of the sampling method, it can be concluded that:\n",
    "\n",
    "<br><b>Sampling Design Overview</b>\n",
    "<br>The above sampling design results lead to several key insights. Firstly, it emphasizes the critical role of prior knowledge in the sampling design process, allowing for better-informed assumptions regarding parameter values in the sampling. Second, the sampling method involves a multistage approach. The first stratification is based on gender, and the second is based on districts and cities. Then, cluster sampling is implemented at the subdistrict level, while simple random sampling is applied at the lowest level.\n",
    "\n",
    "<br><b>Sample Size and Cost Analysis</b>\n",
    "<br>The sampling design calculations show that 1.060 (rounding up) samples are needed to collect reliable data about entrepreneurs in DKI Jakarta. The total cost for this sampling is Rp. 104,250,000. The cost is relatively reasonable for the respective stakeholders with survey needs.\n",
    "\n",
    "<br><b>Flexible Data Collection Method</b>\n",
    "<br>To facilitate the sampling process, a flexible data collection method is utilized, incorporating telephone and online messenger channels to gather information on participants’ monthly expenses. This approach enhances resource allocation and surveyor flexibility, making it more adaptable to the dynamic approach of data collection while still delivering great results."
   ]
  },
  {
   "cell_type": "markdown",
   "metadata": {},
   "source": [
    "## I. Advantages and Disadvantages of The Sampling Method"
   ]
  },
  {
   "cell_type": "markdown",
   "metadata": {},
   "source": [
    "\n",
    "<br>The advantages of this sampling design are:\n",
    "\n",
    "- More efficient: Multi-stage sampling can be efficient because the population of this sampling is large and widely dispersed. \n",
    "\n",
    "- Geographic Coverage: To obtain samples from different geographic areas or strata, ensuring that the sample represents a diverse range of locations within the population which is DKI Jakarta\n",
    "\n",
    "- Diversity: Multi-stage sampling allows for the inclusion of various strata or groups within the population, ensuring that different subpopulations are represented in the sample.\n",
    "\n",
    "- Resource Allocation: Researchers can allocate resources more efficiently by focusing on specific strata or clusters that are of particular interest.\n",
    "\n",
    "<br> While, the disadvantages are:\n",
    "\n",
    "- Complexity: Multi-stage sampling can be more complex to design and execute compared to simpler sampling methods, which may require a greater understanding of the population's structure and characteristics.\n",
    "\n",
    "- Potential for Bias: The use of multiple stages introduces the potential for bias at each stage, which can affect the overall representativeness of the final sample and its generalizability to the population.\n",
    "\n",
    "- Increased Costs: Implementing multi-stage sampling can be more expensive than single-stage methods due to the need for additional resources, such as selecting primary sampling units, conducting multiple stages of sampling, and managing the logistics of the process.\n",
    "\n"
   ]
  },
  {
   "cell_type": "markdown",
   "metadata": {},
   "source": [
    "## J. Initial Data Source"
   ]
  },
  {
   "cell_type": "markdown",
   "metadata": {},
   "source": [
    "- https://www.bps.go.id/indicator/40/461/2/pengeluaran-per-kapita-yang-disesuaikan-menurut-jenis-kelamin.html \n",
    "- https://jakarta.bps.go.id/indicator/26/897/1/-metode-baru-pengeluaran-per-kapita-disesuaikan.html \n",
    "- https://jakarta.bps.go.id/indicator/6/1283/1/jumlah-pekerja-menurut-status-pekerjaan-di-provinsi-dki-jakarta.html \n",
    "- https://jakarta.bps.go.id/indicator/12/1270/1/jumlah-penduduk-menurut-kabupaten-kota-di-provinsi-dki-jakarta-.html\n"
   ]
  }
 ],
 "metadata": {
  "kernelspec": {
   "display_name": "base",
   "language": "python",
   "name": "python3"
  },
  "language_info": {
   "codemirror_mode": {
    "name": "ipython",
    "version": 3
   },
   "file_extension": ".py",
   "mimetype": "text/x-python",
   "name": "python",
   "nbconvert_exporter": "python",
   "pygments_lexer": "ipython3",
   "version": "3.10.9"
  },
  "orig_nbformat": 4
 },
 "nbformat": 4,
 "nbformat_minor": 2
}
